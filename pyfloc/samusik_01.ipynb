{
 "cells": [
  {
   "cell_type": "code",
   "execution_count": null,
   "metadata": {},
   "outputs": [],
   "source": [
    "%matplotlib notebook\n",
    "import pyfloc\n",
    "import warnings\n",
    "warnings.filterwarnings('ignore')"
   ]
  },
  {
   "cell_type": "code",
   "execution_count": null,
   "metadata": {},
   "outputs": [],
   "source": [
    "B = pyfloc.PyFloc()\n",
    "B.read_fcs('../examples/data/flowc/samusik_01.fcs'\n",
    "           , 'random_10000')"
   ]
  },
  {
   "cell_type": "code",
   "execution_count": null,
   "metadata": {
    "scrolled": false
   },
   "outputs": [],
   "source": [
    "B.clean_samples(features = ['label',], remove = 'nan')\n",
    "print(B)"
   ]
  },
  {
   "cell_type": "code",
   "execution_count": null,
   "metadata": {},
   "outputs": [],
   "source": [
    "print(B.experiments.get_features())"
   ]
  },
  {
   "cell_type": "code",
   "execution_count": null,
   "metadata": {
    "scrolled": false
   },
   "outputs": [],
   "source": [
    "B.remove_outliers(['CD5', '120g8', 'TCRgd', 'CD150', 'CD8', 'CD138', 'Ter119', 'BC5'\n",
    "                  ,'CD49b', 'CD103', 'NKp46', 'F480', 'Ly6C', 'CD34'\n",
    "                  , 'Foxp3', 'BC1', 'CCR7', 'Ly6G', 'BC3', 'CD115', 'CD25', 'CD44', 'CD23', 'MHCII'\n",
    "                  , 'BC6', 'CD11b', 'CD27', 'CD64', 'CD45.2'\n",
    "                  , 'B220', 'CD11c', 'CD19', 'IgD', 'CD3', 'IgM', 'BC2', 'CD4'\n",
    "                  , 'CD43', 'TCRb', 'BC4', 'CD16_32'])"
   ]
  },
  {
   "cell_type": "code",
   "execution_count": null,
   "metadata": {
    "scrolled": true
   },
   "outputs": [],
   "source": [
    "B.normalize(['CD5', '120g8', 'TCRgd', 'CD150', 'CD8', 'CD138', 'Ter119', 'BC5'\n",
    "                  ,'CD49b', 'CD103', 'NKp46', 'F480', 'Ly6C', 'CD34'\n",
    "                  , 'Foxp3', 'BC1', 'CCR7', 'Ly6G', 'BC3', 'CD115', 'CD25', 'CD44', 'CD23', 'MHCII'\n",
    "                  , 'BC6', 'CD11b', 'CD27', 'CD64', 'CD45.2'\n",
    "                  , 'B220', 'CD11c', 'CD19', 'IgD', 'CD3', 'IgM', 'BC2', 'CD4'\n",
    "                  , 'CD43', 'TCRb', 'BC4', 'CD16_32']\n",
    "            , normalize_mode = 'arcsin_abs')"
   ]
  },
  {
   "cell_type": "code",
   "execution_count": null,
   "metadata": {
    "scrolled": false
   },
   "outputs": [],
   "source": [
    "B.fit_cluster(mode = 'DensityPeaks'\n",
    "          , features = ['CD5', '120g8', 'TCRgd', 'CD150', 'CD8', 'CD138', 'Ter119', 'BC5'\n",
    "                  ,'CD49b', 'CD103', 'NKp46', 'F480', 'Ly6C', 'CD34'\n",
    "                  , 'Foxp3', 'BC1', 'CCR7', 'Ly6G', 'BC3', 'CD115', 'CD25', 'CD44', 'CD23', 'MHCII'\n",
    "                  , 'BC6', 'CD11b', 'CD27', 'CD64', 'CD45.2'\n",
    "                  , 'B220', 'CD11c', 'CD19', 'IgD', 'CD3', 'IgM', 'BC2', 'CD4'\n",
    "                  , 'CD43', 'TCRb', 'BC4', 'CD16_32']\n",
    "          , metric = 'euclidean'\n",
    "          , percents = [0.02, 0.03, 0.04, 0.05, 0.075, 0.1, 0.2, 0.5, 1.0, 2.0]\n",
    "          , n_stds_delta = 3.0\n",
    "          , manual_refine = True)"
   ]
  },
  {
   "cell_type": "code",
   "execution_count": null,
   "metadata": {
    "scrolled": false
   },
   "outputs": [],
   "source": [
    "B.predict_cluster()"
   ]
  },
  {
   "cell_type": "code",
   "execution_count": null,
   "metadata": {
    "scrolled": false
   },
   "outputs": [],
   "source": [
    "B.experiments.show_distributions(['CD117', 'CD13', 'CD33', 'CD14', 'CD133', 'CD22', 'CD45RA', 'CD235ab', 'CD20', 'CD16', 'CD321', 'CD4', 'CD49d', 'CD41', 'CD3', 'CXCR4','CD38', 'CD19', 'CD11b', 'CD45', 'CD34','CD47','CD11c', 'Flt3', 'CD44', 'CD7','CD8', 'CD15', 'CD64', 'HLA-DR', 'CD61', 'CD123'] )"
   ]
  }
 ],
 "metadata": {
  "kernelspec": {
   "display_name": "Python 3",
   "language": "python",
   "name": "python3"
  },
  "language_info": {
   "codemirror_mode": {
    "name": "ipython",
    "version": 3
   },
   "file_extension": ".py",
   "mimetype": "text/x-python",
   "name": "python",
   "nbconvert_exporter": "python",
   "pygments_lexer": "ipython3",
   "version": "3.6.5"
  }
 },
 "nbformat": 4,
 "nbformat_minor": 2
}
