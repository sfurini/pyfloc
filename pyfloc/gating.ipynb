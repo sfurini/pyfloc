{
 "cells": [
  {
   "cell_type": "markdown",
   "metadata": {},
   "source": [
    "# Notebook for gating\n",
    "\n",
    "This notebook shows how to perform gating. Each gating step is organized into three consecutive phases:\n",
    "* Clustering. Here, the two features used for the gating step are defined. Samples are divided in clusters using any of the clustering algorithms available in pyfloc. The porpose of clustering is just to divide samples into a small number of sub-populations, which will be used to draw the actual gate in the next step\n",
    "* Countour drawing. In this step, it is necesary to define which clusters are part of the sub-population of interest. Then, a contour that surrounds the samples belonging to these clusters is automatically calculated. \n",
    "* Sample selection. If necessary, the automatic contour defined in the previous step can be manually modified. Then samples inside the contour are selected for further analyses\n",
    "\n",
    "In this notebook, a gating strategy made of X consecutive steps is performed."
   ]
  },
  {
   "cell_type": "code",
   "execution_count": 2,
   "metadata": {},
   "outputs": [],
   "source": [
    "%matplotlib notebook\n",
    "import warnings\n",
    "warnings.filterwarnings('ignore')\n",
    "import pyfloc"
   ]
  },
  {
   "cell_type": "markdown",
   "metadata": {},
   "source": [
    "## Reading and preprocessing data\n",
    "\n",
    "See notebook *data* for more details about the parameters of the methods *read_fcs* and *normalize*"
   ]
  },
  {
   "cell_type": "code",
   "execution_count": 4,
   "metadata": {},
   "outputs": [
    {
     "name": "stdout",
     "output_type": "stream",
     "text": [
      "Reading data from /home/cito/T318/ILN_d5_A_1_1_050.fcs with mode all conditions undefined\n",
      "Read 376922 samples from /home/cito/T318/ILN_d5_A_1_1_050.fcs\n",
      "{'FITC-A', 'BV421-A', 'BV786-A', 'BV605-A', 'PE-A', 'PE-CF594-A', 'FSC-W', 'FSC-H', 'FSC-A', 'BV711-A', 'Alexa Fluor 700-A', 'PE-Cy7-A', 'SSC-H', 'BV510-A', 'UV1-A', 'APC-Cy7-A', 'UV2-A', 'Time', 'SSC-W', 'BB700-A', 'Alexa Fluor 647-A', 'SSC-A', 'BV650-A'}\n"
     ]
    }
   ],
   "source": [
    "B = pyfloc.PyFloc()\n",
    "# leggi tutto in una cartella...\n",
    "B.read_fcs(file_name = '/home/cito/T318/ILN_d5_A_1_1_050.fcs', read_mode = 'all')\n",
    "list_features = ['FITC-A', 'BV421-A', 'BV786-A', 'BV605-A', 'PE-A', 'PE-CF594-A', 'FSC-W', 'FSC-H', 'FSC-A', 'BV711-A', 'Alexa Fluor 700-A', 'PE-Cy7-A', 'SSC-H', 'BV510-A', 'UV1-A', 'APC-Cy7-A', 'UV2-A', 'SSC-W', 'BB700-A', 'Alexa Fluor 647-A', 'SSC-A', 'BV650-A']\n",
    "#B.normalize(features = list_features, mode = 'arcsinh')\n",
    "#B.experiments.compensate()\n",
    "#B.experiments.show_scatter(features = ['UV2-A', 'APC-Cy7-A'], mode = 'experiments')"
   ]
  },
  {
   "cell_type": "markdown",
   "metadata": {},
   "source": [
    "# Clustering\n",
    "\n",
    "- **ns_clusters** = Number of clusters\n",
    "- **percents** = Percentile of the distances between samples that is used to define the radius of the kernel  "
   ]
  },
  {
   "cell_type": "code",
   "execution_count": null,
   "metadata": {
    "scrolled": false
   },
   "outputs": [],
   "source": [
    "#features_gate = ['FSC-A', 'APC-H7-A']\n",
    "#features_gate = ['FSC-A','SSC-A']\n",
    "#features_gate = ['SSC-W','SSC-A']\n",
    "#features_gate = ['FSC-W','FSC-A']\n",
    "#features_gate = ['BV711-A','SSC-A']\n",
    "#features_gate = ['Alexa Fluor 647-A','SSC-A']\n",
    "#features_gate = ['APC-R700-A','BV786-A']\n",
    "\n",
    "features_gate = ['UV2-A', 'APC-Cy7-A']\n",
    "#features_gate = ['FSC-A','SSC-A']\n",
    "#features_gate = ['SSC-W','SSC-A']\n",
    "#features_gate = ['BV711','SSC-A'] #basso sinistra\n",
    "#features_gate = ['BV395','SSC-A'] # sinistra\n",
    "#features_gate = ['BV510','SSC-A'] # sinistra\n",
    "# tutto tranne quelli usati in gating\n",
    "B.fit_cluster(features = features_gate, ns_clusters = 8, percents = 1.0)\n",
    "B.predict_cluster()\n",
    "B.experiments.show_scatter(features_gate, mode = 'labels')"
   ]
  },
  {
   "cell_type": "markdown",
   "metadata": {},
   "source": [
    "## Drawing contour around the selected clusters\n",
    "\n",
    "- **target** = The contour will include at least this percentage of the samples beloning to clusters *clusters_2_keep*\n",
    "- **clusters_2_keep** = The contour will be traced considering only samples that belong to these clusters"
   ]
  },
  {
   "cell_type": "code",
   "execution_count": null,
   "metadata": {
    "scrolled": false
   },
   "outputs": [],
   "source": [
    "B.draw_gate(target = 0.9, clusters_2_keep = [0,2])"
   ]
  },
  {
   "cell_type": "markdown",
   "metadata": {},
   "source": [
    "## Selecting samples"
   ]
  },
  {
   "cell_type": "code",
   "execution_count": null,
   "metadata": {
    "scrolled": false
   },
   "outputs": [],
   "source": [
    "B.apply_gate()\n",
    "B.experiments.show_scatter(features_gate, mode = 'density')"
   ]
  },
  {
   "cell_type": "code",
   "execution_count": null,
   "metadata": {},
   "outputs": [],
   "source": [
    "# salva FCS"
   ]
  }
 ],
 "metadata": {
  "kernelspec": {
   "display_name": "Python 3",
   "language": "python",
   "name": "python3"
  },
  "language_info": {
   "codemirror_mode": {
    "name": "ipython",
    "version": 3
   },
   "file_extension": ".py",
   "mimetype": "text/x-python",
   "name": "python",
   "nbconvert_exporter": "python",
   "pygments_lexer": "ipython3",
   "version": "3.6.5"
  }
 },
 "nbformat": 4,
 "nbformat_minor": 2
}
