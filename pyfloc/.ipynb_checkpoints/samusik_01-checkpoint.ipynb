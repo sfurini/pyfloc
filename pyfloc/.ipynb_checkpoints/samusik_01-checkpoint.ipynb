{
 "cells": [
  {
   "cell_type": "code",
   "execution_count": null,
   "metadata": {},
   "outputs": [],
   "source": [
    "%matplotlib notebook\n",
    "import pyfloc\n",
    "import warnings\n",
    "warnings.filterwarnings('ignore')"
   ]
  },
  {
   "cell_type": "code",
   "execution_count": null,
   "metadata": {},
   "outputs": [],
   "source": [
    "list_features = ['Ter119', 'CD45.2', 'Ly6G', 'IgD', 'CD11c', 'F480', 'CD3', 'NKp46', 'CD23', 'CD34', 'CD115', 'CD19', '120g8', 'CD8', 'Ly6C', 'CD4', 'CD11b', 'CD27', 'CD16_32', 'SiglecF', 'Foxp3', 'B220', 'CD5', 'FceR1a', 'TCRgd', 'CCR7', 'Sca1', 'CD49b', 'cKit', 'CD150', 'CD25', 'TCRb', 'CD43', 'CD64', 'CD138', 'CD103', 'IgM', 'CD44', 'MHCII']\n",
    "B = pyfloc.PyFloc()\n",
    "B.read_fcs('/home/cito/flowc/samusik_01.fcs', 'all')"
   ]
  },
  {
   "cell_type": "code",
   "execution_count": null,
   "metadata": {
    "scrolled": false
   },
   "outputs": [],
   "source": [
    "B.clean_samples(features = ['label',], remove = 'nan')"
   ]
  },
  {
   "cell_type": "code",
   "execution_count": null,
   "metadata": {
    "scrolled": true
   },
   "outputs": [],
   "source": [
    "B.normalize(list_features, normalize_mode = 'arcsin_abs')"
   ]
  },
  {
   "cell_type": "code",
   "execution_count": null,
   "metadata": {
    "scrolled": false
   },
   "outputs": [],
   "source": [
    "B.fit_cluster(mode = 'DensityPeaks'\n",
    "          , features = list_features\n",
    "          , metric = 'euclidean'\n",
    "          , percents = [1.0]\n",
    "          , n_stds_delta = 3.0\n",
    "          , manual_refine = True)"
   ]
  },
  {
   "cell_type": "code",
   "execution_count": null,
   "metadata": {
    "scrolled": false
   },
   "outputs": [],
   "source": [
    "B.predict_cluster()"
   ]
  },
  {
   "cell_type": "code",
   "execution_count": null,
   "metadata": {
    "scrolled": false
   },
   "outputs": [],
   "source": [
    "B.experiments.show_distributions(['CD117', 'CD13', 'CD33', 'CD14', 'CD133', 'CD22', 'CD45RA', 'CD235ab', 'CD20', 'CD16', 'CD321', 'CD4', 'CD49d', 'CD41', 'CD3', 'CXCR4','CD38', 'CD19', 'CD11b', 'CD45', 'CD34','CD47','CD11c', 'Flt3', 'CD44', 'CD7','CD8', 'CD15', 'CD64', 'HLA-DR', 'CD61', 'CD123'] )"
   ]
  }
 ],
 "metadata": {
  "kernelspec": {
   "display_name": "Python 3",
   "language": "python",
   "name": "python3"
  },
  "language_info": {
   "codemirror_mode": {
    "name": "ipython",
    "version": 3
   },
   "file_extension": ".py",
   "mimetype": "text/x-python",
   "name": "python",
   "nbconvert_exporter": "python",
   "pygments_lexer": "ipython3",
   "version": "3.6.5"
  }
 },
 "nbformat": 4,
 "nbformat_minor": 2
}
