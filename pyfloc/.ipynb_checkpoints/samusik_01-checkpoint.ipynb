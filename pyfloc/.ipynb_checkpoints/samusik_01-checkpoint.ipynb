{
 "cells": [
  {
   "cell_type": "code",
   "execution_count": null,
   "metadata": {},
   "outputs": [],
   "source": [
    "%matplotlib notebook\n",
    "import pyfloc\n",
    "import warnings\n",
    "warnings.filterwarnings('ignore')"
   ]
  },
  {
   "cell_type": "code",
   "execution_count": null,
   "metadata": {},
   "outputs": [],
   "source": [
    "B = pyfloc.PyFloc()\n",
    "B.read_fcs('../examples/data/flowc/levine_32dim.fcs'\n",
    "           , 'random_10000')"
   ]
  },
  {
   "cell_type": "code",
   "execution_count": null,
   "metadata": {
    "scrolled": true
   },
   "outputs": [],
   "source": [
    "B.clean_samples(features = ['label',], remove = 'nan')"
   ]
  },
  {
   "cell_type": "code",
   "execution_count": null,
   "metadata": {
    "scrolled": false
   },
   "outputs": [],
   "source": [
    "B.remove_outliers(['CD117', 'CD13', 'CD33', 'CD14', 'CD133', 'CD22', 'CD45RA', 'CD235ab', 'CD20', 'CD16'\n",
    "                   , 'CD321', 'CD4', 'CD49d', 'CD41', 'CD3', 'CXCR4'\n",
    "                   ,'CD38', 'CD19', 'CD11b', 'CD45', 'CD34','CD47'\n",
    "                   ,'CD11c', 'Flt3', 'CD44', 'CD7','CD8', 'CD15'\n",
    "                   , 'CD64', 'HLA-DR', 'CD61', 'CD123'])"
   ]
  },
  {
   "cell_type": "code",
   "execution_count": null,
   "metadata": {
    "scrolled": true
   },
   "outputs": [],
   "source": [
    "B.normalize(['CD117', 'CD13', 'CD33', 'CD14', 'CD133', 'CD22', 'CD45RA', 'CD235ab', 'CD20', 'CD16', 'CD321', 'CD4', 'CD49d', 'CD41', 'CD3', 'CXCR4','CD38', 'CD19', 'CD11b', 'CD45', 'CD34','CD47','CD11c', 'Flt3', 'CD44', 'CD7','CD8', 'CD15', 'CD64', 'HLA-DR', 'CD61', 'CD123']\n",
    "            , normalize_mode = 'arcsin_abs')"
   ]
  },
  {
   "cell_type": "code",
   "execution_count": null,
   "metadata": {
    "scrolled": false
   },
   "outputs": [],
   "source": [
    "B.fit_cluster(mode = 'DensityPeaks'\n",
    "          , features = ['CD117', 'CD13', 'CD33', 'CD14', 'CD133', 'CD22', 'CD45RA', 'CD235ab', 'CD20', 'CD16', 'CD321', 'CD4', 'CD49d', 'CD41', 'CD3', 'CXCR4','CD38', 'CD19', 'CD11b', 'CD45', 'CD34','CD47','CD11c', 'Flt3', 'CD44', 'CD7','CD8', 'CD15', 'CD64', 'HLA-DR', 'CD61', 'CD123'] \n",
    "          , metric = 'euclidean'\n",
    "          , percents = [0.02, 0.03, 0.04, 0.05, 0.075, 0.1, 0.2, 0.5, 1.0, 2.0]\n",
    "          , n_stds_delta = 3.0\n",
    "          , manual_refine = True)"
   ]
  },
  {
   "cell_type": "code",
   "execution_count": null,
   "metadata": {
    "scrolled": false
   },
   "outputs": [],
   "source": [
    "B.predict_cluster()"
   ]
  },
  {
   "cell_type": "code",
   "execution_count": null,
   "metadata": {
    "scrolled": false
   },
   "outputs": [],
   "source": [
    "B.experiments.show_distributions(['CD117', 'CD13', 'CD33', 'CD14', 'CD133', 'CD22', 'CD45RA', 'CD235ab', 'CD20', 'CD16', 'CD321', 'CD4', 'CD49d', 'CD41', 'CD3', 'CXCR4','CD38', 'CD19', 'CD11b', 'CD45', 'CD34','CD47','CD11c', 'Flt3', 'CD44', 'CD7','CD8', 'CD15', 'CD64', 'HLA-DR', 'CD61', 'CD123'] )"
   ]
  }
 ],
 "metadata": {
  "kernelspec": {
   "display_name": "Python 3",
   "language": "python",
   "name": "python3"
  },
  "language_info": {
   "codemirror_mode": {
    "name": "ipython",
    "version": 3
   },
   "file_extension": ".py",
   "mimetype": "text/x-python",
   "name": "python",
   "nbconvert_exporter": "python",
   "pygments_lexer": "ipython3",
   "version": "3.6.5"
  }
 },
 "nbformat": 4,
 "nbformat_minor": 2
}
