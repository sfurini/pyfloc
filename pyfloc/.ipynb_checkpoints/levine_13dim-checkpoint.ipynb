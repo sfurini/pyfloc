{
 "cells": [
  {
   "cell_type": "code",
   "execution_count": null,
   "metadata": {},
   "outputs": [],
   "source": [
    "%matplotlib notebook\n",
    "import pyfloc\n",
    "import warnings\n",
    "warnings.filterwarnings('ignore')"
   ]
  },
  {
   "cell_type": "code",
   "execution_count": null,
   "metadata": {},
   "outputs": [],
   "source": [
    "B = pyfloc.PyFloc()\n",
    "B.read_fcs('../examples/data/flowc/levine_13dim.fcs'\n",
    "           , 'random_10000')"
   ]
  },
  {
   "cell_type": "code",
   "execution_count": null,
   "metadata": {},
   "outputs": [],
   "source": [
    "B.clean_samples(features = ['label',], remove = 'nan')"
   ]
  },
  {
   "cell_type": "code",
   "execution_count": null,
   "metadata": {
    "scrolled": true
   },
   "outputs": [],
   "source": [
    "B.normalize(['CD11b', 'CD123', 'CD19', 'CD20', 'CD3', 'CD33', 'CD34', 'CD38', 'CD4', 'CD45', 'CD45RA', 'CD8', 'CD90']\n",
    "                    ,normalize_mode = 'arcsin_abs')"
   ]
  },
  {
   "cell_type": "code",
   "execution_count": null,
   "metadata": {
    "scrolled": false
   },
   "outputs": [],
   "source": [
    "B.fit_cluster(mode = 'DensityPeaks'\n",
    "          , features = ['CD11b', 'CD123', 'CD19', 'CD20', 'CD3', 'CD33', 'CD34', 'CD38', 'CD4', 'CD45', 'CD45RA', 'CD8', 'CD90']\n",
    "          , metric = 'euclidean'\n",
    "          , percents = [0.2]\n",
    "          , n_clusters = 200\n",
    "          , manual_refine = True)"
   ]
  },
  {
   "cell_type": "code",
   "execution_count": null,
   "metadata": {
    "scrolled": false
   },
   "outputs": [],
   "source": [
    "B.predict_cluster()"
   ]
  },
  {
   "cell_type": "code",
   "execution_count": null,
   "metadata": {
    "scrolled": false
   },
   "outputs": [],
   "source": [
    "B.experiments.show_distributions(['CD11b', 'CD123', 'CD19', 'CD20', 'CD3', 'CD33', 'CD34', 'CD38', 'CD4', 'CD45', 'CD45RA', 'CD8', 'CD90'])"
   ]
  },
  {
   "cell_type": "code",
   "execution_count": null,
   "metadata": {
    "scrolled": false
   },
   "outputs": [],
   "source": [
    "B.fit_cluster(mode = 'DensityPeaks'\n",
    "          , features = ['CD4', 'CD8']\n",
    "          , metric = 'euclidean'\n",
    "          , percents = [10.0]\n",
    "          , n_stds_delta = 3.0\n",
    "          , manual_refine = True)"
   ]
  },
  {
   "cell_type": "code",
   "execution_count": null,
   "metadata": {
    "scrolled": true
   },
   "outputs": [],
   "source": [
    "B.predict_cluster()"
   ]
  },
  {
   "cell_type": "code",
   "execution_count": null,
   "metadata": {
    "scrolled": false
   },
   "outputs": [],
   "source": [
    "B.draw_gate(0.9, 'log-log', clusters_2_keep = [1,2])"
   ]
  },
  {
   "cell_type": "code",
   "execution_count": null,
   "metadata": {},
   "outputs": [],
   "source": [
    "B.apply_gate()\n",
    "#experiments.show_scatter(['CD4', 'CD8'])"
   ]
  },
  {
   "cell_type": "code",
   "execution_count": null,
   "metadata": {},
   "outputs": [],
   "source": [
    "B.experiments.show_scatter(['CD4', 'CD8'])"
   ]
  },
  {
   "cell_type": "code",
   "execution_count": null,
   "metadata": {},
   "outputs": [],
   "source": [
    "B.remove_outliers(['CD11b', 'CD123', 'CD19', 'CD20', 'CD3', 'CD33', 'CD34', 'CD38', 'CD4', 'CD45', 'CD45RA', 'CD8', 'CD90'])"
   ]
  }
 ],
 "metadata": {
  "kernelspec": {
   "display_name": "Python 3",
   "language": "python",
   "name": "python3"
  },
  "language_info": {
   "codemirror_mode": {
    "name": "ipython",
    "version": 3
   },
   "file_extension": ".py",
   "mimetype": "text/x-python",
   "name": "python",
   "nbconvert_exporter": "python",
   "pygments_lexer": "ipython3",
   "version": "3.6.5"
  }
 },
 "nbformat": 4,
 "nbformat_minor": 2
}
