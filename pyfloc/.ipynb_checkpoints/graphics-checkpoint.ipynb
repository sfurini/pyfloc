{
 "cells": [
  {
   "cell_type": "code",
   "execution_count": null,
   "metadata": {},
   "outputs": [],
   "source": [
    "%matplotlib notebook\n",
    "import matplotlib.pyplot as plt\n",
    "import graphics"
   ]
  },
  {
   "cell_type": "code",
   "execution_count": null,
   "metadata": {},
   "outputs": [],
   "source": [
    "x = [1,10,100,1000]\n",
    "y = [1,10,100,1000]"
   ]
  },
  {
   "cell_type": "code",
   "execution_count": null,
   "metadata": {},
   "outputs": [],
   "source": [
    "i = [1]\n",
    "pi = graphics.PointInteractor(x,y,i)\n",
    "pi.run()\n",
    "j = pi.get_actives()"
   ]
  },
  {
   "cell_type": "code",
   "execution_count": null,
   "metadata": {},
   "outputs": [],
   "source": [
    "print(j)\n",
    "print(pi.get_actives())"
   ]
  },
  {
   "cell_type": "code",
   "execution_count": null,
   "metadata": {},
   "outputs": [],
   "source": [
    "f = plt.figure()\n",
    "ax1 = f.add_subplot(611)\n",
    "ax1.plot(x,y)\n",
    "ax2 = f.add_subplot(612)\n",
    "ax2.plot(x,y)\n",
    "ax3 = f.add_subplot(613)\n",
    "ax3.plot(x,y)\n",
    "ax4 = f.add_subplot(614)\n",
    "ax4.plot(x,y)\n",
    "ax5 = f.add_subplot(615)\n",
    "ax5.plot(x,y)\n",
    "ax6 = f.add_subplot(616)\n",
    "ax6.plot(x,y)\n",
    "i = graphics.AxesScaleInteractor(f)"
   ]
  },
  {
   "cell_type": "code",
   "execution_count": null,
   "metadata": {},
   "outputs": [],
   "source": []
  }
 ],
 "metadata": {
  "kernelspec": {
   "display_name": "Python 3",
   "language": "python",
   "name": "python3"
  },
  "language_info": {
   "codemirror_mode": {
    "name": "ipython",
    "version": 3
   },
   "file_extension": ".py",
   "mimetype": "text/x-python",
   "name": "python",
   "nbconvert_exporter": "python",
   "pygments_lexer": "ipython3",
   "version": "3.6.5"
  }
 },
 "nbformat": 4,
 "nbformat_minor": 2
}
