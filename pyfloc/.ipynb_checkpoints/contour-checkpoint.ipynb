{
 "cells": [
  {
   "cell_type": "markdown",
   "metadata": {},
   "source": [
    "Contour \n",
    " ------------\n",
    " This notebook provides an overview of the contour methods implemented in PyFloc."
   ]
  },
  {
   "cell_type": "markdown",
   "metadata": {},
   "source": [
    "## Libraries"
   ]
  },
  {
   "cell_type": "code",
   "execution_count": 1,
   "metadata": {},
   "outputs": [],
   "source": [
    "%matplotlib notebook\n",
    "import warnings\n",
    "warnings.filterwarnings('ignore')\n",
    "import matplotlib.pyplot as plt\n",
    "import numpy as np\n",
    "import contour"
   ]
  },
  {
   "cell_type": "markdown",
   "metadata": {},
   "source": [
    "## Datasets\n",
    "\n",
    "Here it is possible to choose the dataset to test the algorithms\n",
    "\n",
    "### Parameters\n",
    "\n",
    "**kind**: kind of dataset to create. It is possibile to choose between *circles, moons, blobs, gates*; <br>\n",
    "**n_samples** (int): number of samples per class; <br>\n",
    "**n_samples_rare** (int): number of samplest per rare class. <br>\n",
    "\n",
    "### Returns \n",
    "**X** (ndarray): data; <br>\n",
    "**y** (array): labels. "
   ]
  },
  {
   "cell_type": "code",
   "execution_count": 2,
   "metadata": {
    "scrolled": false
   },
   "outputs": [],
   "source": [
    "X = contour.make_data('moons',1000)"
   ]
  },
  {
   "cell_type": "markdown",
   "metadata": {},
   "source": [
    "Contour using multi-gaussians\n",
    "------------------------------------\n",
    "\n",
    "Trace the contour using a multi-gaussian approach\n",
    "\n",
    "### Parameters of the constructor\n",
    "**X** (ndarray): data; <br>\n",
    "**n_gaussians** (int): number of gaussians used to fit the distribution of samples; <br>\n",
    "**prob_target** (float): the gate will include the region with this probability; <br>\n",
    "**n_bins** (list): number of bins along x and y.\n",
    "\n",
    "### Parameters of run\n",
    "**n_points** (int): number of points in the contour; <br>\n",
    "**max_iter** (int): maximum number of iterations; <br>\n",
    "**stride_show** (int): plot contour every stride_show iterations; <br>\n",
    "**tol** (float): stop when the sum of the target function along the contour is below tol."
   ]
  },
  {
   "cell_type": "code",
   "execution_count": 3,
   "metadata": {},
   "outputs": [
    {
     "ename": "TypeError",
     "evalue": "__init__() got an unexpected keyword argument 'n_gaussians'",
     "output_type": "error",
     "traceback": [
      "\u001b[0;31m---------------------------------------------------------------------------\u001b[0m",
      "\u001b[0;31mTypeError\u001b[0m                                 Traceback (most recent call last)",
      "\u001b[0;32m<ipython-input-3-9d4a23f9a26f>\u001b[0m in \u001b[0;36m<module>\u001b[0;34m()\u001b[0m\n\u001b[0;32m----> 1\u001b[0;31m \u001b[0mC\u001b[0m \u001b[0;34m=\u001b[0m \u001b[0mcontour\u001b[0m\u001b[0;34m.\u001b[0m\u001b[0mContour\u001b[0m\u001b[0;34m(\u001b[0m\u001b[0mX\u001b[0m\u001b[0;34m,\u001b[0m \u001b[0mn_gaussians\u001b[0m \u001b[0;34m=\u001b[0m \u001b[0;36m10\u001b[0m\u001b[0;34m,\u001b[0m \u001b[0mprob_target\u001b[0m \u001b[0;34m=\u001b[0m \u001b[0;36m0.99\u001b[0m\u001b[0;34m,\u001b[0m \u001b[0mn_bins\u001b[0m \u001b[0;34m=\u001b[0m \u001b[0;34m[\u001b[0m\u001b[0;36m100\u001b[0m\u001b[0;34m,\u001b[0m\u001b[0;36m100\u001b[0m\u001b[0;34m]\u001b[0m\u001b[0;34m)\u001b[0m\u001b[0;34m\u001b[0m\u001b[0m\n\u001b[0m\u001b[1;32m      2\u001b[0m \u001b[0mC\u001b[0m\u001b[0;34m.\u001b[0m\u001b[0mrun\u001b[0m\u001b[0;34m(\u001b[0m\u001b[0mn_points\u001b[0m \u001b[0;34m=\u001b[0m \u001b[0;36m20\u001b[0m\u001b[0;34m,\u001b[0m \u001b[0mmax_iter\u001b[0m \u001b[0;34m=\u001b[0m \u001b[0;36m10000\u001b[0m\u001b[0;34m,\u001b[0m \u001b[0mtol\u001b[0m \u001b[0;34m=\u001b[0m \u001b[0;36m1e-1\u001b[0m\u001b[0;34m)\u001b[0m\u001b[0;34m\u001b[0m\u001b[0m\n",
      "\u001b[0;31mTypeError\u001b[0m: __init__() got an unexpected keyword argument 'n_gaussians'"
     ]
    }
   ],
   "source": [
    "C = contour.Contour(X, n_gaussians = 10, prob_target = 0.99, n_bins = [100,100])\n",
    "C.run(n_points = 20, max_iter = 10000, tol = 1e-1)"
   ]
  },
  {
   "cell_type": "markdown",
   "metadata": {},
   "source": [
    "Contour using raw density histogram\n",
    "-------------------------------------------\n",
    "\n",
    "Trace the contour using a density based approach\n",
    "\n",
    "### Parameters of the constructor\n",
    "**H** (ndarray or None): the grayscale image, binary matrix or numeric matrix to analyze. Can be None if data is not None; <br>\n",
    "**data** (ndarray or None): data. Can be None if H is not None; <br>\n",
    "**density_threshold** (float or None): threshold to estabilish how wide will be the contour. If None, it will be calculated automatically. We suggest to use small values (1e-6, 1e-5, 1e-4); <br>\n",
    "**n_bins** (list): number of bins along x and y;\n",
    "**starting_point** (list or None): the starting point which belongs to the cluster you want to find the contour. We suggest to use the cluster center. If None, it will be set randomly; <br>\n",
    "**exclude_borders** (bool): decides if the points in the border of the image will be included in the analysis; <br>\n",
    "**mode** (str): decides whether the density threshold is an upper bound (*above*) or a lower bound (*below*). <br>\n",
    "\n",
    "\n",
    "### Parameters of run\n",
    "**take_inside** (bool): decides if all the element inside the external contour will be taken as valid (*True* in cluster analysis); <br>\n",
    "**diagonals** (bool): whether to consider the diagonal points as neighbors or not; <br>\n",
    "**min_threshold** (float in [0,1]): to be considered as valid, the contour has to respect the threshold of the taken valid points over the total valid points. "
   ]
  },
  {
   "cell_type": "code",
   "execution_count": null,
   "metadata": {},
   "outputs": [],
   "source": [
    "C = contour.Cherry(data = X, density_threshold = None,\n",
    "                   n_bins = [100, 100], starting_point = None, exclude_borders = False, mode='above')\n",
    "C.run(take_inside = True, diagonals = False, min_threshold = 0.3)"
   ]
  },
  {
   "cell_type": "markdown",
   "metadata": {},
   "source": [
    "Contour conversion and plotting\n",
    "-------------------------------------------\n",
    "\n",
    "Convert in analogic the digital contour and the digital data inside the contour, and plot them"
   ]
  },
  {
   "cell_type": "code",
   "execution_count": null,
   "metadata": {},
   "outputs": [],
   "source": [
    "inside = C.get_mask_inside_polygon()\n",
    "data_inside = C.get_index_inside_polygon()\n",
    "f = plt.figure()\n",
    "ax1 = f.add_subplot(211)\n",
    "ax1.scatter(C.data[:,0],C.data[:,1], c = data_inside)\n",
    "#ax.plot(C.xc, C.yc,'o--k')\n",
    "ax2 = f.add_subplot(212)\n",
    "ax2.plot(C.data[:,0],C.data[:,1],'.')\n",
    "ax2.pcolormesh(C.X, C.Y, inside, cmap = plt.get_cmap('cool'))\n",
    "plt.show()"
   ]
  },
  {
   "cell_type": "code",
   "execution_count": null,
   "metadata": {},
   "outputs": [],
   "source": []
  }
 ],
 "metadata": {
  "kernelspec": {
   "display_name": "Python 3",
   "language": "python",
   "name": "python3"
  },
  "language_info": {
   "codemirror_mode": {
    "name": "ipython",
    "version": 3
   },
   "file_extension": ".py",
   "mimetype": "text/x-python",
   "name": "python",
   "nbconvert_exporter": "python",
   "pygments_lexer": "ipython3",
   "version": "3.6.5"
  }
 },
 "nbformat": 4,
 "nbformat_minor": 2
}
