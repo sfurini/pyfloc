{
 "cells": [
  {
   "cell_type": "code",
   "execution_count": null,
   "metadata": {},
   "outputs": [],
   "source": [
    "%matplotlib notebook\n",
    "import matplotlib.pyplot as plt\n",
    "import numpy as np\n",
    "import contour"
   ]
  },
  {
   "cell_type": "code",
   "execution_count": null,
   "metadata": {
    "scrolled": false
   },
   "outputs": [],
   "source": [
    "X = contour.make_data('blobs', 1000)\n",
    "C = contour.Contour(X, n_gaussians = 10, prob_target = 0.99, n_peaks = 10, n_bins = [100,100])\n",
    "C.run(n_points = 20, max_iter = 10000, tol = 1e-1)"
   ]
  },
  {
   "cell_type": "code",
   "execution_count": null,
   "metadata": {},
   "outputs": [],
   "source": [
    "p = C.get_polygon_refined()\n",
    "inside = C.get_mask_inside_polygon()\n",
    "f = plt.figure()\n",
    "ax = f.add_subplot(111)\n",
    "ax.pcolormesh(C.X, C.Y, inside, cmap = plt.get_cmap('cool'))\n",
    "plt.show()"
   ]
  }
 ],
 "metadata": {
  "kernelspec": {
   "display_name": "Python 3",
   "language": "python",
   "name": "python3"
  },
  "language_info": {
   "codemirror_mode": {
    "name": "ipython",
    "version": 3
   },
   "file_extension": ".py",
   "mimetype": "text/x-python",
   "name": "python",
   "nbconvert_exporter": "python",
   "pygments_lexer": "ipython3",
   "version": "3.6.5"
  }
 },
 "nbformat": 4,
 "nbformat_minor": 2
}
