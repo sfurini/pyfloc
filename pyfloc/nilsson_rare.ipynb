{
 "cells": [
  {
   "cell_type": "code",
   "execution_count": null,
   "metadata": {},
   "outputs": [],
   "source": [
    "%matplotlib notebook\n",
    "import pyfloc\n",
    "import warnings\n",
    "warnings.filterwarnings('ignore')"
   ]
  },
  {
   "cell_type": "code",
   "execution_count": null,
   "metadata": {},
   "outputs": [],
   "source": [
    "B = pyfloc.PyFloc()\n",
    "B.read_fcs('../examples/data/flowc/nilsson_rare.fcs'\n",
    "           , 'all')"
   ]
  },
  {
   "cell_type": "code",
   "execution_count": null,
   "metadata": {
    "scrolled": false
   },
   "outputs": [],
   "source": [
    "B.clean_samples(features = ['label',], remove = 'nan')"
   ]
  },
  {
   "cell_type": "code",
   "execution_count": null,
   "metadata": {
    "scrolled": false
   },
   "outputs": [],
   "source": [
    "B.remove_outliers(['CD110','CD34','CD4','CD19','CD10','CD11b','CD45','CD45RA','CD49fpur','CD38','CD123','CD90bio','CD3'])"
   ]
  },
  {
   "cell_type": "code",
   "execution_count": null,
   "metadata": {
    "scrolled": true
   },
   "outputs": [],
   "source": [
    "B.normalize(['CD110','CD34','CD4','CD19','CD10','CD11b','CD45','CD45RA','CD49fpur','CD38','CD123','CD90bio','CD3']\n",
    "            , normalize_mode = 'arcsin_abs')"
   ]
  },
  {
   "cell_type": "code",
   "execution_count": null,
   "metadata": {},
   "outputs": [],
   "source": [
    "B.fit_cluster(mode = 'DensityPeaks'\n",
    "          , features = ['CD110','CD34','CD4','CD19','CD10','CD11b','CD45','CD45RA','CD49fpur','CD38','CD123','CD90bio','CD3']\n",
    "          , metric = 'euclidean'\n",
    "          , percents = [2.0]\n",
    "          , n_stds_delta = 2.0\n",
    "          , manual_refine = True)"
   ]
  },
  {
   "cell_type": "code",
   "execution_count": null,
   "metadata": {
    "scrolled": true
   },
   "outputs": [],
   "source": [
    "B.predict_cluster(halo = 0.0)"
   ]
  },
  {
   "cell_type": "code",
   "execution_count": null,
   "metadata": {
    "scrolled": false
   },
   "outputs": [],
   "source": [
    "B.experiments.show_distributions(['CD117', 'CD13', 'CD33', 'CD14', 'CD133', 'CD22', 'CD45RA', 'CD235ab', 'CD20', 'CD16', 'CD321', 'CD4', 'CD49d', 'CD41', 'CD3', 'CXCR4','CD38', 'CD19', 'CD11b', 'CD45', 'CD34','CD47','CD11c', 'Flt3', 'CD44', 'CD7','CD8', 'CD15', 'CD64', 'HLA-DR', 'CD61', 'CD123'] )"
   ]
  },
  {
   "cell_type": "code",
   "execution_count": null,
   "metadata": {},
   "outputs": [],
   "source": []
  }
 ],
 "metadata": {
  "kernelspec": {
   "display_name": "Python 3",
   "language": "python",
   "name": "python3"
  },
  "language_info": {
   "codemirror_mode": {
    "name": "ipython",
    "version": 3
   },
   "file_extension": ".py",
   "mimetype": "text/x-python",
   "name": "python",
   "nbconvert_exporter": "python",
   "pygments_lexer": "ipython3",
   "version": "3.6.5"
  }
 },
 "nbformat": 4,
 "nbformat_minor": 2
}
