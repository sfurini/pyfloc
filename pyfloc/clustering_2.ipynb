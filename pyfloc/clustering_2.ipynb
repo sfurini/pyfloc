{
 "cells": [
  {
   "cell_type": "markdown",
   "metadata": {},
   "source": [
    "# Notebook for clustering with the hybrid algorithm: DP + KNN"
   ]
  },
  {
   "cell_type": "code",
   "execution_count": null,
   "metadata": {},
   "outputs": [],
   "source": [
    "%matplotlib notebook\n",
    "import warnings\n",
    "warnings.filterwarnings('ignore')\n",
    "import pyfloc"
   ]
  },
  {
   "cell_type": "markdown",
   "metadata": {},
   "source": [
    "## Reading and preprocessing data\n",
    "\n",
    "See notebook *data* for more details about the parameters of the methods *read_fcs* and *normalize*"
   ]
  },
  {
   "cell_type": "code",
   "execution_count": null,
   "metadata": {},
   "outputs": [],
   "source": [
    "B = pyfloc.PyFloc(verbose = 0)\n",
    "B.read_fcs(file_name = '/home/cito/flowc/Blood_2_1_037.fcs', read_mode = 'all', conditions = '37')\n",
    "B.read_fcs(file_name = '/home/cito/flowc/Blood_2_2_038.fcs', read_mode = 'all', conditions = '38')\n",
    "list_features = ['APC-H7-A', 'SSC-W', 'APC-R700-A', 'BB700-A', 'BB515-A', 'PE-A', 'BV711-A', 'PE-CF594-A', 'SSC-A', 'FSC-H', 'SSC-H', 'FSC-A', 'Alexa Fluor 647-A', 'BV421-A', 'PE-Cy7-A', 'BV510-A', 'FSC-W', 'BV786-A']\n",
    "#list_features = ['CD11b', 'CD123', 'CD19', 'CD20', 'CD3', 'CD33', 'CD34', 'CD38', 'CD4', 'CD45', 'CD45RA', 'CD8', 'CD90']\n",
    "#B.clean_samples(features = ['label',], mode = 'nan')\n",
    "B.remove_outliers(list_features)\n",
    "B.normalize(list_features, mode = 'arcsinh')"
   ]
  },
  {
   "cell_type": "markdown",
   "metadata": {},
   "source": [
    "# Fitting the clustering algorithm\n",
    "\n",
    "Here, the algorithm used for clustering is fitted on data\n",
    "\n",
    "- **features** = which features are used for clustering the data\n",
    "- **percents** = The radius of the kernel that is used to calculate the density is equal to this percentile of the distances among samples\n",
    "- **ns_clusters** = The number of clusters"
   ]
  },
  {
   "cell_type": "code",
   "execution_count": null,
   "metadata": {
    "scrolled": false
   },
   "outputs": [],
   "source": [
    "B.fit_cluster(features = list_features, mode = 'DPKNN'\n",
    "              , percents = 1.0, ns_clusters = 5, training_samples = 10000)"
   ]
  },
  {
   "cell_type": "markdown",
   "metadata": {},
   "source": [
    "## Clustering samples"
   ]
  },
  {
   "cell_type": "code",
   "execution_count": null,
   "metadata": {
    "scrolled": false
   },
   "outputs": [],
   "source": [
    "B.predict_cluster()\n",
    "B.experiments.show_distributions(list_features)\n",
    "print(B.cluster)"
   ]
  }
 ],
 "metadata": {
  "kernelspec": {
   "display_name": "Python 3",
   "language": "python",
   "name": "python3"
  },
  "language_info": {
   "codemirror_mode": {
    "name": "ipython",
    "version": 3
   },
   "file_extension": ".py",
   "mimetype": "text/x-python",
   "name": "python",
   "nbconvert_exporter": "python",
   "pygments_lexer": "ipython3",
   "version": "3.6.5"
  }
 },
 "nbformat": 4,
 "nbformat_minor": 2
}
