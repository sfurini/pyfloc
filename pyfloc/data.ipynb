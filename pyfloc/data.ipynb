{
 "cells": [
  {
   "cell_type": "markdown",
   "metadata": {},
   "source": [
    "# Notebook for reading and plotting data\n",
    "This notebook shows some basis methods for preprocesing and plotting data with PyFloc"
   ]
  },
  {
   "cell_type": "code",
   "execution_count": null,
   "metadata": {},
   "outputs": [],
   "source": [
    "%matplotlib notebook\n",
    "import warnings\n",
    "warnings.filterwarnings('ignore')\n",
    "import data"
   ]
  },
  {
   "cell_type": "markdown",
   "metadata": {},
   "source": [
    "## Read data of a single experiment\n",
    "\n",
    "- **file_name** (str): path of the .fcs file\n",
    "- **mode** (str or int):\n",
    "    - *all*: read everything\n",
    "    - integer value: read as many elements as requested (choosen at random). This is useful for quick testing."
   ]
  },
  {
   "cell_type": "code",
   "execution_count": null,
   "metadata": {},
   "outputs": [],
   "source": [
    "#E = data.Experiment(file_name = '/home/cito/flowc/Blood_2_1_037.fcs', mode = 'all')\n",
    "E = data.Experiment(file_name = '/home/cito/T318/ILN_d5_A_1_1_050.fcs', mode = 'all')\n",
    "print(E)"
   ]
  },
  {
   "cell_type": "markdown",
   "metadata": {},
   "source": [
    "## Plot data of a single experiment\n",
    "\n",
    "- **feature_0** (str): name of the feature plotted on the x-axis\n",
    "- **feature_1** (str): name of the feature plotted on the y-axis\n",
    "- **stride** (int): plot one point every *stride* samples. If set to 0, the stride value for plotting a maximum of 10000 samples is automatically calculated\n",
    "\n",
    "It is possible to modify the axis by selecting the figure and then typing:\n",
    "- **X**: set log scale for x-axis<br>\n",
    "- **x**: set lin scale for x-axis<br>\n",
    "- **Y**: set log scale for y-axis<br>\n",
    "- **y**: set lin scale for x-axis<br>"
   ]
  },
  {
   "cell_type": "code",
   "execution_count": null,
   "metadata": {},
   "outputs": [],
   "source": [
    "E.show(feature_0 = 'FSC-A', feature_1 = 'APC-Cy7-A',stride = 1)\n",
    "E.show(feature_0 = 'FSC-A', feature_1 = 'L/D', stride = 1)"
   ]
  },
  {
   "cell_type": "markdown",
   "metadata": {},
   "source": [
    "## Create a collection of experiments\n",
    "\n",
    "The data structure *Collection* is the one used for all the analyses. Thus, excluding the case of simple plots described as in previous steps, it is recommended to always create a collection of experiments, even when the collection includes a single experiment.<br>\n",
    "\n",
    "Parameters of *add_experiment*:\n",
    "- **experiment** (Experiment): the experiment to add\n",
    "- **condition** (str): string used to identify the condition of the experiment (e.g.: cases, controls, etc)\n",
    "- **labels** (np.array): labels of the experiment, when available"
   ]
  },
  {
   "cell_type": "code",
   "execution_count": null,
   "metadata": {},
   "outputs": [],
   "source": [
    "C = data.Collection()\n",
    "E1 = data.Experiment(file_name = '/home/cito/T318/ILN_d5_A_1_1_050.fcs', mode = 'all')\n",
    "C.add_experiment(experiment = E1, condition = 'case')\n",
    "#E2 = data.Experiment(file_name = '/home/cito/flowc/levine_13dim.fcs', mode = 'all')\n",
    "#C.add_experiment(experiment = E2, condition = 'control', labels = E1.get_data_features('label'))\n",
    "C.compensate()"
   ]
  },
  {
   "cell_type": "markdown",
   "metadata": {},
   "source": [
    "## Remove samples\n",
    "\n",
    "- **features** (list): the features analyzed in this step\n",
    "- **mode** (str): condition used to delete samples. Samples are deleted if any of the features listed in *features* satisfies the condition defined in *mode*. Possible choices for the mode are: \n",
    "    - *nan*: remove NaN values\n",
    "    - *inf*: remove infinite values\n",
    "    - *<= x*: remove values <= x, where x is a float"
   ]
  },
  {
   "cell_type": "code",
   "execution_count": null,
   "metadata": {},
   "outputs": [],
   "source": [
    "#C.clean_samples(features = ['CD4','CD8'], mode = 'nan')\n",
    "C.clean_samples(features = ['IgD','BV711-A'], mode = 'nan')"
   ]
  },
  {
   "cell_type": "markdown",
   "metadata": {},
   "source": [
    "## Normalize data\n",
    "\n",
    "- **features** (list): the features used to define normalized data; <br>\n",
    "- **mode** (str): method used for data normalization. Possible choices are:\n",
    "    - *min*: $\\ x_n = x-min(x)$\n",
    "    - *min_max*: $\\ x_n = (x-min(x))/(max(x)-min(x))$\n",
    "    - *mean_std*: $\\ x_n = (x-mean(x))/std(x)$\n",
    "    - *arcsinh*: $\\ x_n = sinh^{-1}(x/5)$"
   ]
  },
  {
   "cell_type": "code",
   "execution_count": null,
   "metadata": {
    "scrolled": false
   },
   "outputs": [],
   "source": [
    "#C.normalize(features = ['IgD','BV711-A'], mode = 'arcsinh')\n",
    "C.normalize(features = ['FSC-A','L/D'], mode = 'logicle')\n",
    "C.show_scatter(['FSC-A','L/D'], mode = 'density')\n",
    "#C.normalize(features = ['FSC-A','L/D'], mode = 'arcsinh')\n",
    "#C.show_scatter(['FSC-A','L/D'], mode = 'density')"
   ]
  },
  {
   "cell_type": "markdown",
   "metadata": {},
   "source": [
    "## Simple plots\n",
    "\n",
    "This method is analogous to the one defined for the class *Experiment*, but a separate plot is produced for each *condition* included in the collection.\n",
    "If normalized data are defined, each figure includes two plots: one with raw data, and one with normalized data."
   ]
  },
  {
   "cell_type": "code",
   "execution_count": null,
   "metadata": {},
   "outputs": [],
   "source": [
    "C.show(feature_0 = 'IgD', feature_1 = 'BV711-A', stride = 0)"
   ]
  },
  {
   "cell_type": "markdown",
   "metadata": {},
   "source": [
    "## Scatter plots\n",
    "\n",
    "Two dimensional scatter plots. It is possible to colors samples with different methods, as defined with the parameter *mode*\n",
    "\n",
    "- **features** (list): the two features to plot\n",
    "- **mode** (str): method used to color the samples. Possible choices are:\n",
    "    - *experiments*: use different colors for different experiments\n",
    "    - *conditions*: use different colors for different conditions\n",
    "    - *labels*: use different colors for different labels. When using this method, labels needs to be defined in advande by running a clustering analysis, or manually when adding the data to the condition with the method *add_experiment*\n",
    "    - *density*: estimate the density, and color samples according to the local density"
   ]
  },
  {
   "cell_type": "code",
   "execution_count": null,
   "metadata": {},
   "outputs": [],
   "source": [
    "C.show_scatter(['IgD','BV711-A'], mode = 'density')"
   ]
  },
  {
   "cell_type": "markdown",
   "metadata": {},
   "source": [
    "## Distribution plots\n",
    "It plots the distribution of the features in different sub-populations. Sub-populations are defined by the attribute *labels*. Thus, this method can be used only after labels are defined. Labels can be defined mannually within the method *add_experiment*, or by running a clustering analysis\n",
    "\n",
    "There separate figures are produced:\n",
    "- phylogenetic tree of the sub-populations\n",
    "- heatmaps with feature values in the subpopulations\n",
    "- heatmaps with percentage occupancies of subpopulations at the different conditions"
   ]
  },
  {
   "cell_type": "code",
   "execution_count": null,
   "metadata": {},
   "outputs": [],
   "source": [
    "C.show_distributions(features = ['CD4','CD8','CD19','CD3'])"
   ]
  },
  {
   "cell_type": "code",
   "execution_count": null,
   "metadata": {},
   "outputs": [],
   "source": []
  }
 ],
 "metadata": {
  "kernelspec": {
   "display_name": "Python 3",
   "language": "python",
   "name": "python3"
  },
  "language_info": {
   "codemirror_mode": {
    "name": "ipython",
    "version": 3
   },
   "file_extension": ".py",
   "mimetype": "text/x-python",
   "name": "python",
   "nbconvert_exporter": "python",
   "pygments_lexer": "ipython3",
   "version": "3.6.5"
  }
 },
 "nbformat": 4,
 "nbformat_minor": 2
}
